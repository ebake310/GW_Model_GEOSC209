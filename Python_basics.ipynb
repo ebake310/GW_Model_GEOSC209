{
 "cells": [
  {
   "cell_type": "markdown",
   "id": "underlying-admission",
   "metadata": {},
   "source": [
    "## Python Basics"
   ]
  },
  {
   "cell_type": "markdown",
   "id": "classical-species",
   "metadata": {},
   "source": [
    "##### Importing Python packages to use later\n",
    "Python has various packages that you can import in order to do more advanced analyses or have access to have access to more specialized fucntions. To import a package you must write the word import followed by the package name. You can also then add the word as followed by an abbreviation of the package name to make your code more concise, and then only refer to the abbreviation every time you call the package. For examples we code use the following line of code to import the numpy package and nickname it np:"
   ]
  },
  {
   "cell_type": "code",
   "execution_count": null,
   "id": "emerging-southeast",
   "metadata": {},
   "outputs": [],
   "source": [
    "import numpy as np # this imports the numpy package which contains a lot of basic mathematical functions\n",
    "# Go to https://numpy.org/doc/stable/index.html to learn more about this package. By adding the # symbol in front of a line of code, \n",
    "# the line will be ignored. This is a great way to add comments to your code!"
   ]
  },
  {
   "cell_type": "markdown",
   "id": "b42e2d2a-ef00-43d6-8ced-5270684ef537",
   "metadata": {},
   "source": [
    "In the block below, import the package matplotlib.pyplot and nickname it plt. This python package has a variety of plotting capabilities."
   ]
  },
  {
   "cell_type": "code",
   "execution_count": null,
   "id": "d9370a06-89fb-4026-a8eb-eab679c5fdae",
   "metadata": {},
   "outputs": [],
   "source": [
    "import matplotlib.pyplot as plt"
   ]
  },
  {
   "cell_type": "markdown",
   "id": "empirical-syndicate",
   "metadata": {},
   "source": [
    "##### Assign Value to a Variable\n",
    "Values or arrays of values can be assigned to a variable using the = symbol. You can then run a line of code with just the symbol to see what it contains."
   ]
  },
  {
   "cell_type": "code",
   "execution_count": null,
   "id": "contemporary-notice",
   "metadata": {},
   "outputs": [],
   "source": [
    "X = 4.0 # assign the value to the variable\n",
    "X # view the variable, this is an integer"
   ]
  },
  {
   "cell_type": "code",
   "execution_count": null,
   "id": "involved-reputation",
   "metadata": {},
   "outputs": [],
   "source": [
    "Y = 'Hello. I like ice cream.' # assign the value to the variable\n",
    "Y # view the variable, in python, some variables are strings and are surrounded by apostrophes. These are treated differently than integers."
   ]
  },
  {
   "cell_type": "markdown",
   "id": "3dc30fb5-b629-4233-861e-2b3c49ab94db",
   "metadata": {},
   "source": [
    "In the block below, create an integer variable named month and assign a value of 4."
   ]
  },
  {
   "cell_type": "code",
   "execution_count": null,
   "id": "34ad5611-6ed7-4511-8734-2c1052c49aca",
   "metadata": {},
   "outputs": [],
   "source": []
  },
  {
   "cell_type": "markdown",
   "id": "4082b66b-e375-499c-be3a-7db2c1f4e012",
   "metadata": {},
   "source": [
    "In the block below, create a string variable and assign your name as the value."
   ]
  },
  {
   "cell_type": "code",
   "execution_count": null,
   "id": "structured-twelve",
   "metadata": {},
   "outputs": [],
   "source": []
  },
  {
   "cell_type": "markdown",
   "id": "943b6bb6-1cbc-454e-ac92-93b53a0e4f63",
   "metadata": {},
   "source": [
    "You can also assign muliple variables at a time or view multiple variables at the same time:"
   ]
  },
  {
   "cell_type": "code",
   "execution_count": null,
   "id": "1d2202e9-228b-4e94-be9f-8f35d37342cc",
   "metadata": {},
   "outputs": [],
   "source": [
    "rows, layers, columns = 5, 2, 10"
   ]
  },
  {
   "cell_type": "code",
   "execution_count": null,
   "id": "9f516987-4ae5-40ba-894d-3446a6a0c4dd",
   "metadata": {},
   "outputs": [],
   "source": [
    "rows, layers, columns"
   ]
  },
  {
   "cell_type": "markdown",
   "id": "21182e10-a67f-444a-a09a-d3f99e4f4dc2",
   "metadata": {},
   "source": [
    "In the block below, create two variables, K and R. Assign the value 0.001 to K and 0.0005 to R. Do this all in one line of code."
   ]
  },
  {
   "cell_type": "code",
   "execution_count": null,
   "id": "651816ae-d6d0-440b-acd8-0fc9dc058fc8",
   "metadata": {},
   "outputs": [],
   "source": []
  },
  {
   "cell_type": "markdown",
   "id": "colonial-zambia",
   "metadata": {},
   "source": [
    "##### Python Math Basics\n",
    "Python can be used to perform basic math operations. \n",
    "- Use * for multiplication, / for division, + for addition and - for subtraction. \n",
    "- Use ** to raise a value to a power (e.g. 2**2 = 4)."
   ]
  },
  {
   "cell_type": "code",
   "execution_count": null,
   "id": "2e6d6a0b-9d7b-4226-9696-cd78901672e1",
   "metadata": {},
   "outputs": [],
   "source": [
    "# Subtract 1.5 from 4 and then multiply the result by 10. Assign the result to a variable named F\n",
    "F = (4-1.5)*10 # perform math and assign to variable\n",
    "F # view result"
   ]
  },
  {
   "cell_type": "code",
   "execution_count": null,
   "id": "dietary-handbook",
   "metadata": {},
   "outputs": [],
   "source": [
    "# Mulitplication: In the space below, multiply 4 by 6.5\n"
   ]
  },
  {
   "cell_type": "code",
   "execution_count": null,
   "id": "fallen-format",
   "metadata": {},
   "outputs": [],
   "source": [
    "# Division: In the space below, divide 18 by 3\n"
   ]
  },
  {
   "cell_type": "code",
   "execution_count": null,
   "id": "lucky-jersey",
   "metadata": {},
   "outputs": [],
   "source": [
    "# Cube the value 4 (in other words, raise 4 to the power of 3)\n"
   ]
  },
  {
   "cell_type": "markdown",
   "id": "940e7b0e-e7fe-4503-a3f9-d0ca5f991339",
   "metadata": {},
   "source": [
    "##### Calculate the discharge through the aquifer given the below parameters. Use only one line of code. Call the result Q and display result."
   ]
  },
  {
   "cell_type": "code",
   "execution_count": null,
   "id": "b8cb951a-332d-41ef-85c0-3eda81aac712",
   "metadata": {},
   "outputs": [],
   "source": [
    "# Parameters\n",
    "K = 1*10**-5 # hydraulic conductivity in units of m/s; this could also be written as 1e-5 in python\n",
    "A = 100 # cross-sectional area in units of m^2\n",
    "dh = 5 # change in head of 5 meters\n",
    "dl = 50 # flow path length of 50 meters"
   ]
  },
  {
   "cell_type": "code",
   "execution_count": null,
   "id": "7104aca5-49f0-430a-adaa-94b11284867f",
   "metadata": {},
   "outputs": [],
   "source": []
  },
  {
   "cell_type": "markdown",
   "id": "peripheral-albert",
   "metadata": {},
   "source": [
    "##### Creating arrays manually\n",
    "In python, multiple values can also be stored in arrays."
   ]
  },
  {
   "cell_type": "code",
   "execution_count": null,
   "id": "stylish-rings",
   "metadata": {},
   "outputs": [],
   "source": [
    "Months = [1, 2, 3, 4, 5, 6, 7, 8, 9, 10, 11, 12] # this array contains the numeric months\n",
    "Months"
   ]
  },
  {
   "cell_type": "code",
   "execution_count": null,
   "id": "dried-cricket",
   "metadata": {},
   "outputs": [],
   "source": [
    "a = np.array([[1, 2], [3, 4]]) # this array contains 2 rows of data and two columns\n",
    "a"
   ]
  },
  {
   "cell_type": "code",
   "execution_count": null,
   "id": "optional-duncan",
   "metadata": {},
   "outputs": [],
   "source": [
    "# You can extract a specific value from an array by referring to its index locations\n",
    "a[1][0] # python starts at 0 rather than 1 so the 3 is in column 0, row 1"
   ]
  },
  {
   "cell_type": "markdown",
   "id": "arctic-rugby",
   "metadata": {},
   "source": [
    "##### Create array of ones"
   ]
  },
  {
   "cell_type": "code",
   "execution_count": null,
   "id": "respective-johnson",
   "metadata": {},
   "outputs": [],
   "source": [
    "# array of ones with specified dimensions\n",
    "Ones = np.ones((2,6),int) # create an array of ones with 6 columns and 2 rows\n",
    "Ones"
   ]
  },
  {
   "cell_type": "code",
   "execution_count": null,
   "id": "exceptional-finance",
   "metadata": {},
   "outputs": [],
   "source": [
    "# Create array of evenly spaced numbers over a specified interval\n",
    "Even_interval = np.linspace(0.0, 10.0, num=6)\n",
    "Even_interval"
   ]
  },
  {
   "cell_type": "markdown",
   "id": "understood-teaching",
   "metadata": {},
   "source": [
    "##### Math with arrays\n",
    "All the math functions can also be used on arrays"
   ]
  },
  {
   "cell_type": "code",
   "execution_count": null,
   "id": "noticed-snake",
   "metadata": {},
   "outputs": [],
   "source": [
    "(Ones*Even_interval)/2 # multiply two arrays by each other and divide their result by 2"
   ]
  },
  {
   "cell_type": "code",
   "execution_count": null,
   "id": "mediterranean-prague",
   "metadata": {},
   "outputs": [],
   "source": [
    "# In the space below, multiply the Even_interval array by the value 10.\n",
    "\n"
   ]
  },
  {
   "cell_type": "markdown",
   "id": "crude-ottawa",
   "metadata": {},
   "source": [
    "##### For loops\n",
    "For loops are used to do an operation repeatedly. They make it much more efficient than performing an operation repeatedly."
   ]
  },
  {
   "cell_type": "code",
   "execution_count": null,
   "id": "advance-earthquake",
   "metadata": {},
   "outputs": [],
   "source": [
    "for x in range(6): # this for loop goes through each value from 0 to 5, divides it by 2, and then displays the result\n",
    "  print(x/2)"
   ]
  },
  {
   "cell_type": "markdown",
   "id": "regulated-juice",
   "metadata": {},
   "source": [
    "##### Plot Data\n",
    "The command plt.plot() is used to plot data. Inside the parentheses, include the x data, then y data, then optionally you can specify the symbol to use."
   ]
  },
  {
   "cell_type": "code",
   "execution_count": null,
   "id": "stupid-roots",
   "metadata": {},
   "outputs": [],
   "source": [
    "plt.plot(Months, np.linspace(0, 1000, num=12), 'o')\n",
    "plt.xlabel('Month')\n",
    "plt.ylabel('Fake Numbers')\n",
    "plt.show()"
   ]
  },
  {
   "cell_type": "markdown",
   "id": "6bfa988e-17f7-41e1-82a0-afc5a9547906",
   "metadata": {},
   "source": [
    "In the block below, make a plot showing the month on the x-axis and the average temperature in Farenheit on the y-axis. Label the axes."
   ]
  },
  {
   "cell_type": "code",
   "execution_count": null,
   "id": "fe76604d-ea17-44da-a3a9-0191563e6543",
   "metadata": {},
   "outputs": [],
   "source": [
    "Ave_temp = [33, 35, 42, 53, 63, 72, 77, 76, 69, 58, 48, 39] # new york average temperature in farenheit from January to December"
   ]
  },
  {
   "cell_type": "code",
   "execution_count": null,
   "id": "1dd1ab65-5d13-49a5-94a9-2b4a3cf03f90",
   "metadata": {},
   "outputs": [],
   "source": []
  },
  {
   "cell_type": "markdown",
   "id": "f2512ea4-059d-4480-bdc2-0fb87bb42e8a",
   "metadata": {},
   "source": [
    "#### You have completed Part 1 of today's lab. Export and print the completed Python Basics notebook."
   ]
  }
 ],
 "metadata": {
  "kernelspec": {
   "display_name": "Python 3 (ipykernel)",
   "language": "python",
   "name": "python3"
  },
  "language_info": {
   "codemirror_mode": {
    "name": "ipython",
    "version": 3
   },
   "file_extension": ".py",
   "mimetype": "text/x-python",
   "name": "python",
   "nbconvert_exporter": "python",
   "pygments_lexer": "ipython3",
   "version": "3.11.4"
  }
 },
 "nbformat": 4,
 "nbformat_minor": 5
}
